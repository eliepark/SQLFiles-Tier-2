{
 "cells": [
  {
   "cell_type": "markdown",
   "id": "32a3a312",
   "metadata": {},
   "source": [
    "\n",
    "/* PART 2: SQLite\n",
    "\n",
    "Export the country club data from PHPMyAdmin, and connect to a local SQLite instance from Jupyter notebook \n",
    "for the following questions.  \n"
   ]
  },
  {
   "cell_type": "code",
   "execution_count": 180,
   "id": "43a4010e",
   "metadata": {},
   "outputs": [],
   "source": [
    "import sqlite3\n",
    "import pandas as pd"
   ]
  },
  {
   "cell_type": "code",
   "execution_count": 134,
   "id": "e241b503",
   "metadata": {},
   "outputs": [],
   "source": [
    "con=sqlite3.connect('sqlite_db_pythonsqlite.db')\n",
    "rs=con.execute('select distinct * from Members as m inner join Bookings as b \\\n",
    "on m.memid=b.memid inner join Facilities as f on b.facid=f.facid')\n",
    "df=pd.DataFrame(rs.fetchall())\n",
    "df.columns=[rs.description[i][0] for i in range(len(rs.description))]\n",
    "df=df.loc[:,~df.columns.duplicated()]\n"
   ]
  },
  {
   "cell_type": "markdown",
   "id": "6cf481ee",
   "metadata": {},
   "source": [
    "Q10: Produce a list of facilities with a total revenue less than 1000.\n",
    "The output of facility name and total revenue, sorted by revenue. Remember\n",
    "that there's a different cost for guests and members!"
   ]
  },
  {
   "cell_type": "code",
   "execution_count": 213,
   "id": "215fb2a4",
   "metadata": {
    "scrolled": true
   },
   "outputs": [
    {
     "name": "stdout",
     "output_type": "stream",
     "text": [
      "     Facility Name  Total Revenue\n",
      "1   Massage Room 1        50351.6\n",
      "8   Massage Room 2        14454.6\n",
      "6   Tennis Court 2        14310.0\n",
      "5   Tennis Court 1        13860.0\n",
      "2     Squash Court        13468.0\n",
      "7  Badminton Court         1906.5\n",
      "4       Pool Table          270.0\n",
      "3    Snooker Table          240.0\n",
      "0     Table Tennis          180.0\n"
     ]
    }
   ],
   "source": [
    "q10=[]\n",
    "for name in df.name.unique():\n",
    "    f=df[df.name==name]\n",
    "    rev=0\n",
    "    for i in f.index:\n",
    "        s=f.loc[i]\n",
    "        if s.memid==0:\n",
    "            rev+=s.guestcost*s.slots\n",
    "        else:\n",
    "            rev+=s.membercost*s.slots\n",
    "    q10.append([name, round(rev,2)])\n",
    "q10=pd.DataFrame(q10, columns=['Facility Name', 'Total Revenue']).sort_values(by='Total Revenue', ascending=False)\n",
    "print(q10)"
   ]
  },
  {
   "cell_type": "markdown",
   "id": "341e5772",
   "metadata": {},
   "source": [
    "Q11: Produce a report of members and who recommended them in alphabetic surname,firstname order"
   ]
  },
  {
   "cell_type": "code",
   "execution_count": 214,
   "id": "d395e303",
   "metadata": {},
   "outputs": [
    {
     "name": "stdout",
     "output_type": "stream",
     "text": [
      "                       Name Recommended, Surname Recommended, First Name\n",
      "15         Sarwin Ramnaresh                Bader                Florence\n",
      "14              Coplin Joan                Baker                 Timothy\n",
      "12          Genting Matthew              Butters                  Gerald\n",
      "10            Baker Timothy              Farrell                  Jemima\n",
      "11             Pinker David              Farrell                  Jemima\n",
      "17         Rumney Henrietta              Genting                 Matthew\n",
      "16            Jones Douglas                Jones                   David\n",
      "3                Dare Nancy             Joplette                  Janice\n",
      "7               Jones David             Joplette                  Janice\n",
      "20                Hunt John              Purview               Millicent\n",
      "2                Boothe Tim               Rownam                     Tim\n",
      "0           Joplette Janice                Smith                  Darren\n",
      "1            Butters Gerald                Smith                  Darren\n",
      "5              Owen Charles                Smith                  Darren\n",
      "8                Smith Jack                Smith                  Darren\n",
      "13           Mackenzie Anna                Smith                  Darren\n",
      "18  Worthington-Smyth Henry                Smith                   Tracy\n",
      "19        Purview Millicent                Smith                   Tracy\n",
      "21            Crumpet Erica                Smith                   Tracy\n",
      "6                Baker Anne             Stibbons                  Ponder\n",
      "9            Bader Florence             Stibbons                  Ponder\n",
      "4           Stibbons Ponder                Tracy                  Burton\n"
     ]
    }
   ],
   "source": [
    "q11=[]\n",
    "for i in df.memid.unique():\n",
    "    if i!=0:\n",
    "        f=df[df.memid==i].iloc[0]\n",
    "        if f.recommendedby!='':\n",
    "            q11.append([f.surname+' '+f.firstname, df[df.memid==int(f.recommendedby)].iloc[0].surname, df[df.memid==int(f.recommendedby)].iloc[0].firstname])\n",
    "q11=pd.DataFrame(q11, columns=['Name', 'Recommended, Surname', 'Recommended, First Name']).sort_values(['Recommended, Surname', 'Recommended, First Name'])\n",
    "print(q11)"
   ]
  },
  {
   "cell_type": "markdown",
   "id": "8401de39",
   "metadata": {},
   "source": [
    "/* Q12: Find the facilities with their usage by member, but not guests */"
   ]
  },
  {
   "cell_type": "code",
   "execution_count": 219,
   "id": "d1814a35",
   "metadata": {},
   "outputs": [
    {
     "name": "stdout",
     "output_type": "stream",
     "text": [
      "            Facility Member Surname Member First Name  Usage Count\n",
      "0    Badminton Court          Bader          Florence            9\n",
      "1    Badminton Court          Baker              Anne           10\n",
      "2    Badminton Court          Baker           Timothy            7\n",
      "3    Badminton Court         Boothe               Tim           12\n",
      "4    Badminton Court        Butters            Gerald           20\n",
      "..               ...            ...               ...          ...\n",
      "197   Tennis Court 2          Smith            Darren           19\n",
      "198   Tennis Court 2          Smith              Jack            1\n",
      "199   Tennis Court 2          Smith             Tracy            2\n",
      "200   Tennis Court 2       Stibbons            Ponder           31\n",
      "201   Tennis Court 2          Tracy            Burton            3\n",
      "\n",
      "[202 rows x 4 columns]\n"
     ]
    }
   ],
   "source": [
    "q12=pd.DataFrame(df[df.memid!=0].groupby(['name', 'surname', 'firstname']).size().reset_index())\n",
    "q12.columns=['Facility', 'Member Surname', 'Member First Name', 'Usage Count']\n",
    "print(q12)"
   ]
  },
  {
   "cell_type": "markdown",
   "id": "436474e2",
   "metadata": {},
   "source": [
    "/* Q13: Find the facilities usage by month, but not guests */"
   ]
  },
  {
   "cell_type": "code",
   "execution_count": 216,
   "id": "e6f6803d",
   "metadata": {},
   "outputs": [],
   "source": [
    "q12=df[df.memid!=0].groupby(['facility', 'month', 'surname', 'firstname', 'name']).size().reset_index()\n",
    "q12=pd.DataFrame(q12)"
   ]
  },
  {
   "cell_type": "code",
   "execution_count": 218,
   "id": "4ced3d51",
   "metadata": {},
   "outputs": [
    {
     "name": "stdout",
     "output_type": "stream",
     "text": [
      "            Facility  Month Member Surname Member Firstname  Usage Count\n",
      "0    Badminton Court      7         Boothe              Tim            1\n",
      "1    Badminton Court      7        Butters           Gerald            4\n",
      "2    Badminton Court      7           Dare            Nancy            2\n",
      "3    Badminton Court      7         Rownam              Tim            1\n",
      "4    Badminton Court      7          Smith           Darren           38\n",
      "..               ...    ...            ...              ...          ...\n",
      "367   Tennis Court 2      9         Rumney        Henrietta            1\n",
      "368   Tennis Court 2      9         Sarwin        Ramnaresh           11\n",
      "369   Tennis Court 2      9          Smith           Darren            3\n",
      "370   Tennis Court 2      9          Smith             Jack            1\n",
      "371   Tennis Court 2      9       Stibbons           Ponder           14\n",
      "\n",
      "[372 rows x 5 columns]\n"
     ]
    }
   ],
   "source": [
    "df['month']=pd.DatetimeIndex(df['starttime']).month\n",
    "q13=df[df.memid!=0].groupby([ 'name', 'month', 'surname', 'firstname']).size().reset_index()\n",
    "q13.columns=['Facility', 'Month', 'Member Surname', 'Member Firstname', 'Usage Count']\n",
    "print(q13)"
   ]
  }
 ],
 "metadata": {
  "kernelspec": {
   "display_name": "Python 3",
   "language": "python",
   "name": "python3"
  },
  "language_info": {
   "codemirror_mode": {
    "name": "ipython",
    "version": 3
   },
   "file_extension": ".py",
   "mimetype": "text/x-python",
   "name": "python",
   "nbconvert_exporter": "python",
   "pygments_lexer": "ipython3",
   "version": "3.8.8"
  }
 },
 "nbformat": 4,
 "nbformat_minor": 5
}
